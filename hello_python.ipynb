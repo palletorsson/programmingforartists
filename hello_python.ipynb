{
  "nbformat": 4,
  "nbformat_minor": 0,
  "metadata": {
    "colab": {
      "provenance": [],
      "authorship_tag": "ABX9TyO/flpQB0WyEBpPn/QdlMgl",
      "include_colab_link": true
    },
    "kernelspec": {
      "name": "python3",
      "display_name": "Python 3"
    },
    "language_info": {
      "name": "python"
    }
  },
  "cells": [
    {
      "cell_type": "markdown",
      "metadata": {
        "id": "view-in-github",
        "colab_type": "text"
      },
      "source": [
        "<a href=\"https://colab.research.google.com/github/palletorsson/programmingforartists/blob/master/hello_python.ipynb\" target=\"_parent\"><img src=\"https://colab.research.google.com/assets/colab-badge.svg\" alt=\"Open In Colab\"/></a>"
      ]
    },
    {
      "cell_type": "code",
      "execution_count": 1,
      "metadata": {
        "colab": {
          "base_uri": "https://localhost:8080/"
        },
        "id": "iwB-cCtgWcIf",
        "outputId": "530323d7-d643-4247-8021-4187fafa1744"
      },
      "outputs": [
        {
          "output_type": "stream",
          "name": "stdout",
          "text": [
            "Hello, World.\n"
          ]
        }
      ],
      "source": [
        "print('Hello World.')"
      ]
    },
    {
      "cell_type": "markdown",
      "source": [
        "skapa en variabel och initiera den \"hello\", 4 - dynamiskt typat, underscore"
      ],
      "metadata": {
        "id": "NPC4r9LUWf-t"
      }
    },
    {
      "cell_type": "code",
      "source": [
        "hello_text = \"hello\"\n",
        "my_int = 4\n",
        "my_float = 2.3"
      ],
      "metadata": {
        "id": "NdLTW2kuWrLI"
      },
      "execution_count": 2,
      "outputs": []
    },
    {
      "cell_type": "markdown",
      "source": [
        "Definiera en funktion, indentering, underscore"
      ],
      "metadata": {
        "id": "PySJzF-kW43Y"
      }
    },
    {
      "cell_type": "code",
      "source": [
        "def int_print():\n",
        "    print(\"Printing \" + str(my_int) + \" \" + hello_text)\n",
        "\n",
        "int_print()\n"
      ],
      "metadata": {
        "colab": {
          "base_uri": "https://localhost:8080/"
        },
        "id": "sZvSyrXPW9Ex",
        "outputId": "c49970c8-1cde-43c8-f0bc-1c23f7176237"
      },
      "execution_count": 5,
      "outputs": [
        {
          "output_type": "stream",
          "name": "stdout",
          "text": [
            "Printing 4 hello\n"
          ]
        }
      ]
    },
    {
      "cell_type": "markdown",
      "source": [
        "funktion som tar argument\n",
        "funktion som returnerar ett varde"
      ],
      "metadata": {
        "id": "n9ZAOaP5XPpJ"
      }
    },
    {
      "cell_type": "code",
      "source": [],
      "metadata": {
        "id": "ovw0rZsSXgR4"
      },
      "execution_count": null,
      "outputs": []
    },
    {
      "cell_type": "code",
      "source": [
        "def add (a, b): \n",
        "    return a+b"
      ],
      "metadata": {
        "id": "vlwvs4U4XVRY"
      },
      "execution_count": 6,
      "outputs": []
    },
    {
      "cell_type": "markdown",
      "source": [
        "Använd funktionen och skriv ut dess värd"
      ],
      "metadata": {
        "id": "TIqvTyonXdOa"
      }
    },
    {
      "cell_type": "code",
      "source": [
        "r = add(my_int, my_float)\n",
        "print(\"Printing result from add function \"  + str(r))"
      ],
      "metadata": {
        "colab": {
          "base_uri": "https://localhost:8080/"
        },
        "id": "Z4l0_6iFXipK",
        "outputId": "b8dd10b6-dede-4d10-fcf0-379562b5bb7d"
      },
      "execution_count": 7,
      "outputs": [
        {
          "output_type": "stream",
          "name": "stdout",
          "text": [
            "Printing result from add function 6.3\n"
          ]
        }
      ]
    },
    {
      "cell_type": "markdown",
      "source": [
        "importera och använd ett bibliotek"
      ],
      "metadata": {
        "id": "aMJQOdhCXqDN"
      }
    },
    {
      "cell_type": "code",
      "source": [
        "from datetime import date\n",
        "from datetime import datetime\n",
        "\n",
        "today = datetime.now()\n",
        "print  (\"The current date and time is \", today)"
      ],
      "metadata": {
        "colab": {
          "base_uri": "https://localhost:8080/"
        },
        "id": "NOH0SVcyXv6K",
        "outputId": "5177a7e9-e2b2-480f-8308-d4749166d759"
      },
      "execution_count": 8,
      "outputs": [
        {
          "output_type": "stream",
          "name": "stdout",
          "text": [
            "The current date and time is  2022-10-01 11:47:09.794638\n"
          ]
        }
      ]
    },
    {
      "cell_type": "markdown",
      "source": [
        "funktion med villkorligt flöde - if, elif, else"
      ],
      "metadata": {
        "id": "Jd55TCkJX2tW"
      }
    },
    {
      "cell_type": "code",
      "source": [
        "def is_it_monday(): \n",
        "    if date.today().weekday() == 0:\n",
        "        return \"It is Monday\"\n",
        "    elif date.today().weekday() == 4:\n",
        "        return \"But it is Friday\"\n",
        "    else:\n",
        "        return \"It not Monday\"\n",
        "\n",
        "print(is_it_monday())"
      ],
      "metadata": {
        "colab": {
          "base_uri": "https://localhost:8080/"
        },
        "id": "YfkNICoMX7h7",
        "outputId": "a6c4bab5-a001-404e-f27b-1c3d02d8e7ac"
      },
      "execution_count": 10,
      "outputs": [
        {
          "output_type": "stream",
          "name": "stdout",
          "text": [
            "It not Monday\n"
          ]
        }
      ]
    },
    {
      "cell_type": "markdown",
      "source": [
        "funktion med standardvärdet för ett argument"
      ],
      "metadata": {
        "id": "tkVvSMMiYJzE"
      }
    },
    {
      "cell_type": "code",
      "source": [
        "import random \n",
        "\n",
        "def is_the_world_ending (answer=\"yes\"): \n",
        "    r = random.random() \n",
        "    #print r\n",
        "    if answer == \"yes\": \n",
        "        if r < 0.5:\n",
        "            ret = \"The world is not ending but life is\"\n",
        "        else:\n",
        "            ret = \"Try again\"\n",
        "    else: \n",
        "        ret = \"There is still hope\"\n",
        "    return ret\n",
        "\n",
        "print (is_the_world_ending())\n",
        "print (is_the_world_ending(\"no\"))\n"
      ],
      "metadata": {
        "colab": {
          "base_uri": "https://localhost:8080/"
        },
        "id": "rYIzZf9FYLVg",
        "outputId": "72fd90a2-12ca-44a7-a391-37376ecc0793"
      },
      "execution_count": 12,
      "outputs": [
        {
          "output_type": "stream",
          "name": "stdout",
          "text": [
            "Try again\n",
            "There is still hope\n"
          ]
        }
      ]
    },
    {
      "cell_type": "markdown",
      "source": [
        "skapa list och läs med while"
      ],
      "metadata": {
        "id": "kZ0oOsjZYWwT"
      }
    },
    {
      "cell_type": "code",
      "source": [
        "words = ['one', 'two', 'three', 'four', 'five']\n",
        "\n",
        "n = 0\n",
        "while(n < 5):\n",
        "    print(words[n])\n",
        "    n += 1\n"
      ],
      "metadata": {
        "colab": {
          "base_uri": "https://localhost:8080/"
        },
        "id": "OeqQEm12YYRk",
        "outputId": "6c6d00d4-ca53-4f96-9ee7-f89ffbc66411"
      },
      "execution_count": 13,
      "outputs": [
        {
          "output_type": "stream",
          "name": "stdout",
          "text": [
            "one\n",
            "two\n",
            "three\n",
            "four\n",
            "five\n"
          ]
        }
      ]
    }
  ]
}